{
  "nbformat": 4,
  "nbformat_minor": 0,
  "metadata": {
    "colab": {
      "name": "Netflix Movies and TV Shows Clustering - Shaloy Lewis",
      "provenance": [],
      "collapsed_sections": [
        "tOGC-qoyhJeX",
        "Xjoqa59pCoVe"
      ],
      "include_colab_link": true
    },
    "kernelspec": {
      "name": "python3",
      "display_name": "Python 3"
    },
    "language_info": {
      "name": "python"
    }
  },
  "cells": [
    {
      "cell_type": "markdown",
      "metadata": {
        "id": "view-in-github",
        "colab_type": "text"
      },
      "source": [
        "<a href=\"https://colab.research.google.com/github/shaloy-lewis/Netflix_movies_and_tv_shows_clustering/blob/main/Netflix_Movies_and_TV_Shows_Clustering_Shaloy_Lewis.ipynb\" target=\"_parent\"><img src=\"https://colab.research.google.com/assets/colab-badge.svg\" alt=\"Open In Colab\"/></a>"
      ]
    },
    {
      "cell_type": "markdown",
      "metadata": {
        "id": "tOGC-qoyhJeX"
      },
      "source": [
        "# <b><u> Project Title : Netflix Movies and TV Shows Clustering </u></b>"
      ]
    },
    {
      "cell_type": "markdown",
      "metadata": {
        "id": "8M5kyFaVjzXk"
      },
      "source": [
        "## <b> Problem Description </b>\n",
        "\n",
        "* This dataset consists of tv shows and movies available on Netflix as of 2019. The dataset is collected from Flixable which is a third-party Netflix search engine.\n",
        "* In 2018, they released an interesting report which shows that the number of TV shows on Netflix has nearly tripled since 2010. The streaming service’s number of movies has decreased by more than 2,000 titles since 2010, while its number of TV shows has nearly tripled. It will be interesting to explore what all other insights can be obtained from the same dataset."
      ]
    },
    {
      "cell_type": "markdown",
      "metadata": {
        "id": "jhfLYargscGV"
      },
      "source": [
        "## <b> Attribute Information </b>\n",
        "1. show_id : Unique ID for every Movie / Tv Show\n",
        "\n",
        "2. type : Identifier - A Movie or TV Show\n",
        "\n",
        "3. title : Title of the Movie / Tv Show\n",
        "\n",
        "4. director : Director of the Movie\n",
        "\n",
        "5. cast : Actors involved in the movie / show\n",
        "\n",
        "6. country : Country where the movie / show was produced\n",
        "\n",
        "7. date_added : Date it was added on Netflix\n",
        "\n",
        "8. release_year : Actual Releaseyear of the movie / show\n",
        "\n",
        "9. rating : TV Rating of the movie / show\n",
        "\n",
        "10. duration : Total Duration - in minutes or number of seasons\n",
        "\n",
        "11. listed_in : Genere\n",
        "\n",
        "12. description: The Summary description"
      ]
    },
    {
      "cell_type": "markdown",
      "metadata": {
        "id": "Xjoqa59pCoVe"
      },
      "source": [
        "# **Importing the libraries and the dataset**"
      ]
    },
    {
      "cell_type": "code",
      "execution_count": 538,
      "metadata": {
        "id": "dByMsuzT8Tnw"
      },
      "outputs": [],
      "source": [
        "# importing the required libraries\n",
        "import pandas as pd\n",
        "import numpy as np\n",
        "import matplotlib.pyplot as plt\n",
        "import seaborn as sns\n",
        "from datetime import datetime as dt\n",
        "\n",
        "import warnings\n",
        "warnings.filterwarnings('ignore')\n",
        "\n",
        "%matplotlib inline\n",
        "sns.set()"
      ]
    },
    {
      "cell_type": "code",
      "execution_count": 539,
      "metadata": {
        "colab": {
          "base_uri": "https://localhost:8080/"
        },
        "id": "GaOH83zDw4yC",
        "outputId": "aa40df7d-0623-4a05-a751-383a9cf4cf16"
      },
      "outputs": [
        {
          "output_type": "stream",
          "name": "stdout",
          "text": [
            "Drive already mounted at /content/drive; to attempt to forcibly remount, call drive.mount(\"/content/drive\", force_remount=True).\n"
          ]
        }
      ],
      "source": [
        "from google.colab import drive\n",
        "drive.mount('/content/drive')"
      ]
    },
    {
      "cell_type": "code",
      "execution_count": 540,
      "metadata": {
        "id": "w_VSph6pw3Mn"
      },
      "outputs": [],
      "source": [
        "# reading data\n",
        "path = '/content/drive/MyDrive/Netflix movies and TV shows clustering - Shaloy Lewis/Netflix_movies_and_tv_shows_clustering.csv'\n",
        "\n",
        "original_df = pd.read_csv(path,index_col='show_id')\n",
        "df = original_df.copy()"
      ]
    },
    {
      "cell_type": "code",
      "execution_count": 541,
      "metadata": {
        "colab": {
          "base_uri": "https://localhost:8080/",
          "height": 455
        },
        "id": "eKeP3p8hxNyQ",
        "outputId": "a4348f60-01e0-48ed-ee6b-814bc34584f8"
      },
      "outputs": [
        {
          "output_type": "execute_result",
          "data": {
            "text/plain": [
              "            type  title           director  \\\n",
              "show_id                                      \n",
              "s1       TV Show     3%                NaN   \n",
              "s2         Movie   7:19  Jorge Michel Grau   \n",
              "s3         Movie  23:59       Gilbert Chan   \n",
              "s4         Movie      9        Shane Acker   \n",
              "s5         Movie     21     Robert Luketic   \n",
              "\n",
              "                                                      cast        country  \\\n",
              "show_id                                                                     \n",
              "s1       João Miguel, Bianca Comparato, Michel Gomes, R...         Brazil   \n",
              "s2       Demián Bichir, Héctor Bonilla, Oscar Serrano, ...         Mexico   \n",
              "s3       Tedd Chan, Stella Chung, Henley Hii, Lawrence ...      Singapore   \n",
              "s4       Elijah Wood, John C. Reilly, Jennifer Connelly...  United States   \n",
              "s5       Jim Sturgess, Kevin Spacey, Kate Bosworth, Aar...  United States   \n",
              "\n",
              "                date_added  release_year rating   duration  \\\n",
              "show_id                                                      \n",
              "s1         August 14, 2020          2020  TV-MA  4 Seasons   \n",
              "s2       December 23, 2016          2016  TV-MA     93 min   \n",
              "s3       December 20, 2018          2011      R     78 min   \n",
              "s4       November 16, 2017          2009  PG-13     80 min   \n",
              "s5         January 1, 2020          2008  PG-13    123 min   \n",
              "\n",
              "                                                 listed_in  \\\n",
              "show_id                                                      \n",
              "s1       International TV Shows, TV Dramas, TV Sci-Fi &...   \n",
              "s2                            Dramas, International Movies   \n",
              "s3                     Horror Movies, International Movies   \n",
              "s4       Action & Adventure, Independent Movies, Sci-Fi...   \n",
              "s5                                                  Dramas   \n",
              "\n",
              "                                               description  \n",
              "show_id                                                     \n",
              "s1       In a future where the elite inhabit an island ...  \n",
              "s2       After a devastating earthquake hits Mexico Cit...  \n",
              "s3       When an army recruit is found dead, his fellow...  \n",
              "s4       In a postapocalyptic world, rag-doll robots hi...  \n",
              "s5       A brilliant group of students become card-coun...  "
            ],
            "text/html": [
              "\n",
              "  <div id=\"df-32205090-19d5-4084-a187-3d14a1acb05b\">\n",
              "    <div class=\"colab-df-container\">\n",
              "      <div>\n",
              "<style scoped>\n",
              "    .dataframe tbody tr th:only-of-type {\n",
              "        vertical-align: middle;\n",
              "    }\n",
              "\n",
              "    .dataframe tbody tr th {\n",
              "        vertical-align: top;\n",
              "    }\n",
              "\n",
              "    .dataframe thead th {\n",
              "        text-align: right;\n",
              "    }\n",
              "</style>\n",
              "<table border=\"1\" class=\"dataframe\">\n",
              "  <thead>\n",
              "    <tr style=\"text-align: right;\">\n",
              "      <th></th>\n",
              "      <th>type</th>\n",
              "      <th>title</th>\n",
              "      <th>director</th>\n",
              "      <th>cast</th>\n",
              "      <th>country</th>\n",
              "      <th>date_added</th>\n",
              "      <th>release_year</th>\n",
              "      <th>rating</th>\n",
              "      <th>duration</th>\n",
              "      <th>listed_in</th>\n",
              "      <th>description</th>\n",
              "    </tr>\n",
              "    <tr>\n",
              "      <th>show_id</th>\n",
              "      <th></th>\n",
              "      <th></th>\n",
              "      <th></th>\n",
              "      <th></th>\n",
              "      <th></th>\n",
              "      <th></th>\n",
              "      <th></th>\n",
              "      <th></th>\n",
              "      <th></th>\n",
              "      <th></th>\n",
              "      <th></th>\n",
              "    </tr>\n",
              "  </thead>\n",
              "  <tbody>\n",
              "    <tr>\n",
              "      <th>s1</th>\n",
              "      <td>TV Show</td>\n",
              "      <td>3%</td>\n",
              "      <td>NaN</td>\n",
              "      <td>João Miguel, Bianca Comparato, Michel Gomes, R...</td>\n",
              "      <td>Brazil</td>\n",
              "      <td>August 14, 2020</td>\n",
              "      <td>2020</td>\n",
              "      <td>TV-MA</td>\n",
              "      <td>4 Seasons</td>\n",
              "      <td>International TV Shows, TV Dramas, TV Sci-Fi &amp;...</td>\n",
              "      <td>In a future where the elite inhabit an island ...</td>\n",
              "    </tr>\n",
              "    <tr>\n",
              "      <th>s2</th>\n",
              "      <td>Movie</td>\n",
              "      <td>7:19</td>\n",
              "      <td>Jorge Michel Grau</td>\n",
              "      <td>Demián Bichir, Héctor Bonilla, Oscar Serrano, ...</td>\n",
              "      <td>Mexico</td>\n",
              "      <td>December 23, 2016</td>\n",
              "      <td>2016</td>\n",
              "      <td>TV-MA</td>\n",
              "      <td>93 min</td>\n",
              "      <td>Dramas, International Movies</td>\n",
              "      <td>After a devastating earthquake hits Mexico Cit...</td>\n",
              "    </tr>\n",
              "    <tr>\n",
              "      <th>s3</th>\n",
              "      <td>Movie</td>\n",
              "      <td>23:59</td>\n",
              "      <td>Gilbert Chan</td>\n",
              "      <td>Tedd Chan, Stella Chung, Henley Hii, Lawrence ...</td>\n",
              "      <td>Singapore</td>\n",
              "      <td>December 20, 2018</td>\n",
              "      <td>2011</td>\n",
              "      <td>R</td>\n",
              "      <td>78 min</td>\n",
              "      <td>Horror Movies, International Movies</td>\n",
              "      <td>When an army recruit is found dead, his fellow...</td>\n",
              "    </tr>\n",
              "    <tr>\n",
              "      <th>s4</th>\n",
              "      <td>Movie</td>\n",
              "      <td>9</td>\n",
              "      <td>Shane Acker</td>\n",
              "      <td>Elijah Wood, John C. Reilly, Jennifer Connelly...</td>\n",
              "      <td>United States</td>\n",
              "      <td>November 16, 2017</td>\n",
              "      <td>2009</td>\n",
              "      <td>PG-13</td>\n",
              "      <td>80 min</td>\n",
              "      <td>Action &amp; Adventure, Independent Movies, Sci-Fi...</td>\n",
              "      <td>In a postapocalyptic world, rag-doll robots hi...</td>\n",
              "    </tr>\n",
              "    <tr>\n",
              "      <th>s5</th>\n",
              "      <td>Movie</td>\n",
              "      <td>21</td>\n",
              "      <td>Robert Luketic</td>\n",
              "      <td>Jim Sturgess, Kevin Spacey, Kate Bosworth, Aar...</td>\n",
              "      <td>United States</td>\n",
              "      <td>January 1, 2020</td>\n",
              "      <td>2008</td>\n",
              "      <td>PG-13</td>\n",
              "      <td>123 min</td>\n",
              "      <td>Dramas</td>\n",
              "      <td>A brilliant group of students become card-coun...</td>\n",
              "    </tr>\n",
              "  </tbody>\n",
              "</table>\n",
              "</div>\n",
              "      <button class=\"colab-df-convert\" onclick=\"convertToInteractive('df-32205090-19d5-4084-a187-3d14a1acb05b')\"\n",
              "              title=\"Convert this dataframe to an interactive table.\"\n",
              "              style=\"display:none;\">\n",
              "        \n",
              "  <svg xmlns=\"http://www.w3.org/2000/svg\" height=\"24px\"viewBox=\"0 0 24 24\"\n",
              "       width=\"24px\">\n",
              "    <path d=\"M0 0h24v24H0V0z\" fill=\"none\"/>\n",
              "    <path d=\"M18.56 5.44l.94 2.06.94-2.06 2.06-.94-2.06-.94-.94-2.06-.94 2.06-2.06.94zm-11 1L8.5 8.5l.94-2.06 2.06-.94-2.06-.94L8.5 2.5l-.94 2.06-2.06.94zm10 10l.94 2.06.94-2.06 2.06-.94-2.06-.94-.94-2.06-.94 2.06-2.06.94z\"/><path d=\"M17.41 7.96l-1.37-1.37c-.4-.4-.92-.59-1.43-.59-.52 0-1.04.2-1.43.59L10.3 9.45l-7.72 7.72c-.78.78-.78 2.05 0 2.83L4 21.41c.39.39.9.59 1.41.59.51 0 1.02-.2 1.41-.59l7.78-7.78 2.81-2.81c.8-.78.8-2.07 0-2.86zM5.41 20L4 18.59l7.72-7.72 1.47 1.35L5.41 20z\"/>\n",
              "  </svg>\n",
              "      </button>\n",
              "      \n",
              "  <style>\n",
              "    .colab-df-container {\n",
              "      display:flex;\n",
              "      flex-wrap:wrap;\n",
              "      gap: 12px;\n",
              "    }\n",
              "\n",
              "    .colab-df-convert {\n",
              "      background-color: #E8F0FE;\n",
              "      border: none;\n",
              "      border-radius: 50%;\n",
              "      cursor: pointer;\n",
              "      display: none;\n",
              "      fill: #1967D2;\n",
              "      height: 32px;\n",
              "      padding: 0 0 0 0;\n",
              "      width: 32px;\n",
              "    }\n",
              "\n",
              "    .colab-df-convert:hover {\n",
              "      background-color: #E2EBFA;\n",
              "      box-shadow: 0px 1px 2px rgba(60, 64, 67, 0.3), 0px 1px 3px 1px rgba(60, 64, 67, 0.15);\n",
              "      fill: #174EA6;\n",
              "    }\n",
              "\n",
              "    [theme=dark] .colab-df-convert {\n",
              "      background-color: #3B4455;\n",
              "      fill: #D2E3FC;\n",
              "    }\n",
              "\n",
              "    [theme=dark] .colab-df-convert:hover {\n",
              "      background-color: #434B5C;\n",
              "      box-shadow: 0px 1px 3px 1px rgba(0, 0, 0, 0.15);\n",
              "      filter: drop-shadow(0px 1px 2px rgba(0, 0, 0, 0.3));\n",
              "      fill: #FFFFFF;\n",
              "    }\n",
              "  </style>\n",
              "\n",
              "      <script>\n",
              "        const buttonEl =\n",
              "          document.querySelector('#df-32205090-19d5-4084-a187-3d14a1acb05b button.colab-df-convert');\n",
              "        buttonEl.style.display =\n",
              "          google.colab.kernel.accessAllowed ? 'block' : 'none';\n",
              "\n",
              "        async function convertToInteractive(key) {\n",
              "          const element = document.querySelector('#df-32205090-19d5-4084-a187-3d14a1acb05b');\n",
              "          const dataTable =\n",
              "            await google.colab.kernel.invokeFunction('convertToInteractive',\n",
              "                                                     [key], {});\n",
              "          if (!dataTable) return;\n",
              "\n",
              "          const docLinkHtml = 'Like what you see? Visit the ' +\n",
              "            '<a target=\"_blank\" href=https://colab.research.google.com/notebooks/data_table.ipynb>data table notebook</a>'\n",
              "            + ' to learn more about interactive tables.';\n",
              "          element.innerHTML = '';\n",
              "          dataTable['output_type'] = 'display_data';\n",
              "          await google.colab.output.renderOutput(dataTable, element);\n",
              "          const docLink = document.createElement('div');\n",
              "          docLink.innerHTML = docLinkHtml;\n",
              "          element.appendChild(docLink);\n",
              "        }\n",
              "      </script>\n",
              "    </div>\n",
              "  </div>\n",
              "  "
            ]
          },
          "metadata": {},
          "execution_count": 541
        }
      ],
      "source": [
        "df.head()"
      ]
    },
    {
      "cell_type": "code",
      "execution_count": 542,
      "metadata": {
        "colab": {
          "base_uri": "https://localhost:8080/"
        },
        "id": "0GO0upxIxuLO",
        "outputId": "d010d156-6977-466e-8549-11f1a95a4152"
      },
      "outputs": [
        {
          "output_type": "execute_result",
          "data": {
            "text/plain": [
              "(7787, 11)"
            ]
          },
          "metadata": {},
          "execution_count": 542
        }
      ],
      "source": [
        "df.shape"
      ]
    },
    {
      "cell_type": "code",
      "source": [
        "df.nunique()"
      ],
      "metadata": {
        "colab": {
          "base_uri": "https://localhost:8080/"
        },
        "id": "WXQft3gdb6-2",
        "outputId": "746a5ac7-6a49-473b-899b-7505b8295517"
      },
      "execution_count": 543,
      "outputs": [
        {
          "output_type": "execute_result",
          "data": {
            "text/plain": [
              "type               2\n",
              "title           7787\n",
              "director        4049\n",
              "cast            6831\n",
              "country          681\n",
              "date_added      1565\n",
              "release_year      73\n",
              "rating            14\n",
              "duration         216\n",
              "listed_in        492\n",
              "description     7769\n",
              "dtype: int64"
            ]
          },
          "metadata": {},
          "execution_count": 543
        }
      ]
    },
    {
      "cell_type": "markdown",
      "metadata": {
        "id": "-SEhKyMXkkED"
      },
      "source": [
        "The dataset contains 7787 records and 11 attributes."
      ]
    },
    {
      "cell_type": "markdown",
      "source": [
        "# **Cleaning data**"
      ],
      "metadata": {
        "id": "5wSvNu-aZDiD"
      }
    },
    {
      "cell_type": "markdown",
      "source": [
        "**1. Checking for duplicate records:**"
      ],
      "metadata": {
        "id": "S9Fr8XXXeedu"
      }
    },
    {
      "cell_type": "code",
      "source": [
        "# Checking for duplicate records\n",
        "df.duplicated().value_counts()"
      ],
      "metadata": {
        "colab": {
          "base_uri": "https://localhost:8080/"
        },
        "id": "EWevxDFEYvmk",
        "outputId": "14cb120b-dee2-4863-c438-5e31b4846a4d"
      },
      "execution_count": 544,
      "outputs": [
        {
          "output_type": "execute_result",
          "data": {
            "text/plain": [
              "False    7787\n",
              "dtype: int64"
            ]
          },
          "metadata": {},
          "execution_count": 544
        }
      ]
    },
    {
      "cell_type": "markdown",
      "source": [
        "There are no duplicated records in the dataset."
      ],
      "metadata": {
        "id": "UAYnW7dWfNzn"
      }
    },
    {
      "cell_type": "markdown",
      "source": [
        "**2. Checking for missing values and handling them:**"
      ],
      "metadata": {
        "id": "jjKIVCSeZ6ea"
      }
    },
    {
      "cell_type": "code",
      "source": [
        "# Missing values in the dataset\n",
        "df.isna().sum()"
      ],
      "metadata": {
        "colab": {
          "base_uri": "https://localhost:8080/"
        },
        "id": "G9-NxldSZ9q1",
        "outputId": "431f1e6e-fa97-4dc1-daa9-c83b5f86c6b7"
      },
      "execution_count": 545,
      "outputs": [
        {
          "output_type": "execute_result",
          "data": {
            "text/plain": [
              "type               0\n",
              "title              0\n",
              "director        2389\n",
              "cast             718\n",
              "country          507\n",
              "date_added        10\n",
              "release_year       0\n",
              "rating             7\n",
              "duration           0\n",
              "listed_in          0\n",
              "description        0\n",
              "dtype: int64"
            ]
          },
          "metadata": {},
          "execution_count": 545
        }
      ]
    },
    {
      "cell_type": "code",
      "source": [
        "# Checking the unique values in each attribute of the dataset\n",
        "df.nunique()"
      ],
      "metadata": {
        "colab": {
          "base_uri": "https://localhost:8080/"
        },
        "id": "KJoiS0ZSalFp",
        "outputId": "d8c6e679-ca38-4aa4-80e2-6bb10ec79fed"
      },
      "execution_count": 546,
      "outputs": [
        {
          "output_type": "execute_result",
          "data": {
            "text/plain": [
              "type               2\n",
              "title           7787\n",
              "director        4049\n",
              "cast            6831\n",
              "country          681\n",
              "date_added      1565\n",
              "release_year      73\n",
              "rating            14\n",
              "duration         216\n",
              "listed_in        492\n",
              "description     7769\n",
              "dtype: int64"
            ]
          },
          "metadata": {},
          "execution_count": 546
        }
      ]
    },
    {
      "cell_type": "markdown",
      "source": [
        "* The missing values in the director, cast, and country attributes can be replaced with 'Unknown'\n",
        "* 10 records with missing values in the date_added column can be dropped.\n",
        "* The missing values in rating can be imputed with its mode, since this attribute is discrete."
      ],
      "metadata": {
        "id": "XXenG42rXdI7"
      }
    },
    {
      "cell_type": "code",
      "source": [
        "# Handling the missing values\n",
        "df[['director','cast','country']] = df[['director','cast','country']].fillna('Unknown')\n",
        "df['rating'] = df['rating'].fillna(df['rating'].mode()[0])\n",
        "df.dropna(axis=0, inplace = True)"
      ],
      "metadata": {
        "id": "fFKtk5E1k8BM"
      },
      "execution_count": 547,
      "outputs": []
    },
    {
      "cell_type": "code",
      "source": [
        "df.isna().sum()"
      ],
      "metadata": {
        "colab": {
          "base_uri": "https://localhost:8080/"
        },
        "id": "hbu3eKnDhgEy",
        "outputId": "22f560b0-83d9-4fc8-8ef7-0f80611f0057"
      },
      "execution_count": 548,
      "outputs": [
        {
          "output_type": "execute_result",
          "data": {
            "text/plain": [
              "type            0\n",
              "title           0\n",
              "director        0\n",
              "cast            0\n",
              "country         0\n",
              "date_added      0\n",
              "release_year    0\n",
              "rating          0\n",
              "duration        0\n",
              "listed_in       0\n",
              "description     0\n",
              "dtype: int64"
            ]
          },
          "metadata": {},
          "execution_count": 548
        }
      ]
    },
    {
      "cell_type": "code",
      "source": [
        "df.shape"
      ],
      "metadata": {
        "colab": {
          "base_uri": "https://localhost:8080/"
        },
        "id": "wynwIrZPhnj8",
        "outputId": "7f846e92-8f3c-4fd7-c9ce-fc8d09710d88"
      },
      "execution_count": 549,
      "outputs": [
        {
          "output_type": "execute_result",
          "data": {
            "text/plain": [
              "(7777, 11)"
            ]
          },
          "metadata": {},
          "execution_count": 549
        }
      ]
    },
    {
      "cell_type": "markdown",
      "source": [
        "We have successfully handled all the missing values in the dataset."
      ],
      "metadata": {
        "id": "UPm81dr_rb12"
      }
    },
    {
      "cell_type": "markdown",
      "source": [
        "**3. Country, listed_in, director:**"
      ],
      "metadata": {
        "id": "g6zzm485rsDZ"
      }
    },
    {
      "cell_type": "code",
      "source": [
        "df.country.value_counts()"
      ],
      "metadata": {
        "colab": {
          "base_uri": "https://localhost:8080/"
        },
        "id": "QiPz_S61iN7b",
        "outputId": "6da991be-5198-4efc-cdce-96810c0fb8ae"
      },
      "execution_count": 550,
      "outputs": [
        {
          "output_type": "execute_result",
          "data": {
            "text/plain": [
              "United States                                                   2549\n",
              "India                                                            923\n",
              "Unknown                                                          506\n",
              "United Kingdom                                                   396\n",
              "Japan                                                            225\n",
              "                                                                ... \n",
              "Russia, United States, China                                       1\n",
              "Italy, Switzerland, France, Germany                                1\n",
              "United States, United Kingdom, Canada                              1\n",
              "United States, United Kingdom, Japan                               1\n",
              "Sweden, Czech Republic, United Kingdom, Denmark, Netherlands       1\n",
              "Name: country, Length: 682, dtype: int64"
            ]
          },
          "metadata": {},
          "execution_count": 550
        }
      ]
    },
    {
      "cell_type": "code",
      "source": [
        "df.listed_in.value_counts()"
      ],
      "metadata": {
        "colab": {
          "base_uri": "https://localhost:8080/"
        },
        "id": "fFRRhO_S1m-O",
        "outputId": "9d112ca7-20af-4fb9-ff70-8efc7c1598c1"
      },
      "execution_count": 551,
      "outputs": [
        {
          "output_type": "execute_result",
          "data": {
            "text/plain": [
              "Documentaries                                                                      334\n",
              "Stand-Up Comedy                                                                    321\n",
              "Dramas, International Movies                                                       320\n",
              "Comedies, Dramas, International Movies                                             243\n",
              "Dramas, Independent Movies, International Movies                                   215\n",
              "                                                                                  ... \n",
              "Anime Series, Crime TV Shows, TV Thrillers                                           1\n",
              "Crime TV Shows, Romantic TV Shows, Spanish-Language TV Shows                         1\n",
              "Crime TV Shows, International TV Shows, Reality TV                                   1\n",
              "International Movies, Romantic Movies, Sci-Fi & Fantasy                              1\n",
              "International TV Shows, Spanish-Language TV Shows, Stand-Up Comedy & Talk Shows      1\n",
              "Name: listed_in, Length: 491, dtype: int64"
            ]
          },
          "metadata": {},
          "execution_count": 551
        }
      ]
    },
    {
      "cell_type": "markdown",
      "source": [
        "* There are some movies / TV shows that were filmed in multiple countries,have multiple genres associated with it.\n",
        "* To simplify the analysis, let's consider only the primary country where that respective movie / TV show was filmed.\n",
        "* Also, let's consider only the primary genre of the respective movie / TV show."
      ],
      "metadata": {
        "id": "hqLIJmHIvUAD"
      }
    },
    {
      "cell_type": "code",
      "source": [
        "# Choosing the primary country and primary genre to simplify the analysis\n",
        "df['country'] = df['country'].apply(lambda x: x.split(',')[0])\n",
        "df['listed_in'] = df['listed_in'].apply(lambda x: x.split(',')[0])"
      ],
      "metadata": {
        "id": "w_WTq1fTr-GB"
      },
      "execution_count": 552,
      "outputs": []
    },
    {
      "cell_type": "code",
      "source": [
        "df.country.value_counts()"
      ],
      "metadata": {
        "colab": {
          "base_uri": "https://localhost:8080/"
        },
        "id": "QinWCodj09kQ",
        "outputId": "5441fa58-5ff6-482c-edfc-c95058e2a8c9"
      },
      "execution_count": 553,
      "outputs": [
        {
          "output_type": "execute_result",
          "data": {
            "text/plain": [
              "United States     2877\n",
              "India              956\n",
              "United Kingdom     576\n",
              "Unknown            506\n",
              "Canada             259\n",
              "                  ... \n",
              "Zimbabwe             1\n",
              "Namibia              1\n",
              "Soviet Union         1\n",
              "Iran                 1\n",
              "Somalia              1\n",
              "Name: country, Length: 82, dtype: int64"
            ]
          },
          "metadata": {},
          "execution_count": 553
        }
      ]
    },
    {
      "cell_type": "code",
      "source": [
        "df.listed_in.value_counts()"
      ],
      "metadata": {
        "colab": {
          "base_uri": "https://localhost:8080/"
        },
        "id": "0EbUGyHowyne",
        "outputId": "eadb0590-67b3-4041-e84f-5dace59beb9f"
      },
      "execution_count": 554,
      "outputs": [
        {
          "output_type": "execute_result",
          "data": {
            "text/plain": [
              "Dramas                          1384\n",
              "Comedies                        1074\n",
              "Documentaries                    751\n",
              "Action & Adventure               721\n",
              "International TV Shows           689\n",
              "Children & Family Movies         502\n",
              "Crime TV Shows                   369\n",
              "Kids' TV                         357\n",
              "Stand-Up Comedy                  321\n",
              "Horror Movies                    244\n",
              "British TV Shows                 231\n",
              "Docuseries                       193\n",
              "Anime Series                     147\n",
              "International Movies             114\n",
              "TV Comedies                      109\n",
              "Reality TV                       102\n",
              "Classic Movies                    77\n",
              "TV Dramas                         62\n",
              "Movies                            56\n",
              "Thrillers                         49\n",
              "TV Action & Adventure             36\n",
              "Stand-Up Comedy & Talk Shows      33\n",
              "Romantic TV Shows                 28\n",
              "Independent Movies                20\n",
              "Anime Features                    19\n",
              "Classic & Cult TV                 19\n",
              "Music & Musicals                  17\n",
              "TV Shows                          12\n",
              "Cult Movies                       12\n",
              "Sci-Fi & Fantasy                  11\n",
              "TV Horror                         10\n",
              "Romantic Movies                    3\n",
              "Spanish-Language TV Shows          2\n",
              "Sports Movies                      1\n",
              "TV Sci-Fi & Fantasy                1\n",
              "LGBTQ Movies                       1\n",
              "Name: listed_in, dtype: int64"
            ]
          },
          "metadata": {},
          "execution_count": 554
        }
      ]
    },
    {
      "cell_type": "markdown",
      "source": [
        "**4. Converting the datatype of duration column to integer**"
      ],
      "metadata": {
        "id": "fP-WXlpr4Upg"
      }
    },
    {
      "cell_type": "code",
      "source": [
        "df['duration'] = df['duration'].apply(lambda x: int(x.split()[0]))"
      ],
      "metadata": {
        "id": "fCuFlRCG4pVh"
      },
      "execution_count": 555,
      "outputs": []
    },
    {
      "cell_type": "code",
      "source": [
        "df[df['type']=='TV Show'].duration.value_counts()"
      ],
      "metadata": {
        "colab": {
          "base_uri": "https://localhost:8080/"
        },
        "id": "Z5cMFHl9yS8K",
        "outputId": "c07e64d8-81d6-4ba9-a6d6-c1deca94d504"
      },
      "execution_count": 556,
      "outputs": [
        {
          "output_type": "execute_result",
          "data": {
            "text/plain": [
              "1     1608\n",
              "2      378\n",
              "3      183\n",
              "4       86\n",
              "5       57\n",
              "6       30\n",
              "7       19\n",
              "8       18\n",
              "9        8\n",
              "10       5\n",
              "11       2\n",
              "12       2\n",
              "15       2\n",
              "13       1\n",
              "16       1\n",
              "Name: duration, dtype: int64"
            ]
          },
          "metadata": {},
          "execution_count": 556
        }
      ]
    },
    {
      "cell_type": "code",
      "source": [
        "df[df['type']=='Movie'].duration.unique()"
      ],
      "metadata": {
        "colab": {
          "base_uri": "https://localhost:8080/"
        },
        "id": "AHHKkjoQykr3",
        "outputId": "3bbceb1e-39d5-4f56-c2ca-bd5a99a8c88a"
      },
      "execution_count": 557,
      "outputs": [
        {
          "output_type": "execute_result",
          "data": {
            "text/plain": [
              "array([ 93,  78,  80, 123,  95, 119, 118, 143, 103,  89,  91, 149, 144,\n",
              "       124,  87, 110, 128, 117, 100,  84,  99,  90, 102, 104, 105,  56,\n",
              "       125,  81,  97, 106, 107, 109,  44,  75, 101,  37, 113, 114, 130,\n",
              "        94, 140, 135,  82,  70, 121,  92, 164,  53,  83, 116,  86, 120,\n",
              "        96, 126, 129,  77, 137, 148,  28, 122, 176,  85,  22,  68, 111,\n",
              "        29, 142, 168,  21,  59,  20,  98, 108,  76,  26, 156,  30,  57,\n",
              "       150, 133, 115, 154, 127, 146, 136,  88, 131,  24, 112,  74,  63,\n",
              "        38,  25, 174,  60, 153, 158, 151, 162,  54,  51,  69,  64, 147,\n",
              "        42,  79,  40,  45, 172,  10, 163,  55,  72,  61,  71, 160, 171,\n",
              "        48, 139, 157,  15,  65, 134, 161,  62, 186,  49,  73,  58, 165,\n",
              "       166, 138, 159, 141, 132,  52,  67,  34,  66, 312, 180,  47, 155,\n",
              "        14, 177,  11,   9,  46, 145,   8,  12,  43,  50,  23, 185, 200,\n",
              "       169,  27, 170, 196,  33, 181, 204,  32,  35, 167, 179, 193,  13,\n",
              "       214,  17, 173, 192, 209, 187,  41, 182, 224, 233, 189, 152,  19,\n",
              "       208, 237,  31, 178, 230, 194, 228, 195,   3,  16,   5,  18, 205,\n",
              "       190,  36, 201, 253, 203, 191])"
            ]
          },
          "metadata": {},
          "execution_count": 557
        }
      ]
    },
    {
      "cell_type": "code",
      "source": [
        "df.duration.dtype"
      ],
      "metadata": {
        "colab": {
          "base_uri": "https://localhost:8080/"
        },
        "id": "uQg22j9tyqy-",
        "outputId": "f7b95b0a-c477-4fb5-cf78-6d385f4a3a67"
      },
      "execution_count": 558,
      "outputs": [
        {
          "output_type": "execute_result",
          "data": {
            "text/plain": [
              "dtype('int64')"
            ]
          },
          "metadata": {},
          "execution_count": 558
        }
      ]
    },
    {
      "cell_type": "markdown",
      "source": [
        "We have successfully converted the datatype of duration column to int."
      ],
      "metadata": {
        "id": "DewSQQ8c53BW"
      }
    },
    {
      "cell_type": "markdown",
      "source": [
        "**5. converting date_added to datetime datatype:**"
      ],
      "metadata": {
        "id": "NZPKopeX6sbn"
      }
    },
    {
      "cell_type": "code",
      "source": [
        "# Converting the datatype of date_added column to datetime\n",
        "df[\"date_added\"] = pd.to_datetime(df['date_added'])"
      ],
      "metadata": {
        "id": "P8R0iS-SFsvF"
      },
      "execution_count": 559,
      "outputs": []
    },
    {
      "cell_type": "code",
      "source": [
        "df.date_added.min(),df.date_added.max()"
      ],
      "metadata": {
        "colab": {
          "base_uri": "https://localhost:8080/"
        },
        "id": "Z1NJR9xSF4M2",
        "outputId": "22c89cbf-c31e-423a-a3d7-4dc6b4c4dfea"
      },
      "execution_count": 560,
      "outputs": [
        {
          "output_type": "execute_result",
          "data": {
            "text/plain": [
              "(Timestamp('2008-01-01 00:00:00'), Timestamp('2021-01-16 00:00:00'))"
            ]
          },
          "metadata": {},
          "execution_count": 560
        }
      ]
    },
    {
      "cell_type": "markdown",
      "source": [
        "The shows were added on Netflix between 1st January 2008 and 16th January 2021."
      ],
      "metadata": {
        "id": "dwZeg0FhGDrV"
      }
    },
    {
      "cell_type": "code",
      "source": [
        "# Adding new attributes month and year of date added\n",
        "\n",
        "df['month_added'] = df['date_added'].dt.month\n",
        "df['year_added'] = df['date_added'].dt.year\n",
        "df.drop('date_added', axis=1, inplace=True)"
      ],
      "metadata": {
        "id": "RK-NMCEa7Rpe"
      },
      "execution_count": 561,
      "outputs": []
    },
    {
      "cell_type": "markdown",
      "source": [
        "**6. Rating:**"
      ],
      "metadata": {
        "id": "2-VIzp9o_PpW"
      }
    },
    {
      "cell_type": "markdown",
      "source": [
        "The ratings can be changed to age restrictions that apply on certain movies and TV shows.\n",
        "\n",
        "[Reference](https://www.primevideo.com/help/ref=atv_hp_nd_cnt?nodeId=GFGQU3WYEG6FSJFJ)"
      ],
      "metadata": {
        "id": "GYH6o9C5_ZTa"
      }
    },
    {
      "cell_type": "code",
      "source": [
        "df.rating.unique()"
      ],
      "metadata": {
        "colab": {
          "base_uri": "https://localhost:8080/"
        },
        "id": "tTEFapgfAHPG",
        "outputId": "5f948d0d-ff52-4350-99a9-3e6b2893f53e"
      },
      "execution_count": 562,
      "outputs": [
        {
          "output_type": "execute_result",
          "data": {
            "text/plain": [
              "array(['TV-MA', 'R', 'PG-13', 'TV-14', 'TV-PG', 'NR', 'TV-G', 'TV-Y',\n",
              "       'TV-Y7', 'PG', 'G', 'NC-17', 'TV-Y7-FV', 'UR'], dtype=object)"
            ]
          },
          "metadata": {},
          "execution_count": 562
        }
      ]
    },
    {
      "cell_type": "code",
      "source": [
        "# Changing the values in the rating column\n",
        "rating_map = {'TV-MA':'Adults',\n",
        "              'R':'Adults',\n",
        "              'PG-13':'Teens',\n",
        "              'TV-14':'Young Adults',\n",
        "              'TV-PG':'Older Kids',\n",
        "              'NR':'Adults',\n",
        "              'TV-G':'Kids',\n",
        "              'TV-Y':'Kids',\n",
        "              'TV-Y7':'Older Kids',\n",
        "              'PG':'Older Kids',\n",
        "              'G':'Kids',\n",
        "              'NC-17':'Adults',\n",
        "              'TV-Y7-FV':'Older Kids',\n",
        "              'UR':'Adults'}\n",
        "\n",
        "df['rating'].replace(rating_map, inplace = True)\n",
        "df['rating'].unique()"
      ],
      "metadata": {
        "colab": {
          "base_uri": "https://localhost:8080/"
        },
        "id": "lF99X5Ki_81G",
        "outputId": "3d74038a-ab2a-436d-ce73-b2bbf0f9ea14"
      },
      "execution_count": 563,
      "outputs": [
        {
          "output_type": "execute_result",
          "data": {
            "text/plain": [
              "array(['Adults', 'Teens', 'Young Adults', 'Older Kids', 'Kids'],\n",
              "      dtype=object)"
            ]
          },
          "metadata": {},
          "execution_count": 563
        }
      ]
    },
    {
      "cell_type": "markdown",
      "source": [
        "This step is done to improve the interpretability."
      ],
      "metadata": {
        "id": "q7XvKBbv_8mQ"
      }
    },
    {
      "cell_type": "markdown",
      "source": [
        "# **Exploratory Data Analysis**"
      ],
      "metadata": {
        "id": "KShSvFckHn9W"
      }
    },
    {
      "cell_type": "code",
      "source": [
        "df.info()"
      ],
      "metadata": {
        "colab": {
          "base_uri": "https://localhost:8080/"
        },
        "id": "LAagHuBEdlOC",
        "outputId": "dc0aceb6-eca6-4bc3-9a86-d130324bc50d"
      },
      "execution_count": 564,
      "outputs": [
        {
          "output_type": "stream",
          "name": "stdout",
          "text": [
            "<class 'pandas.core.frame.DataFrame'>\n",
            "Index: 7777 entries, s1 to s7787\n",
            "Data columns (total 12 columns):\n",
            " #   Column        Non-Null Count  Dtype \n",
            "---  ------        --------------  ----- \n",
            " 0   type          7777 non-null   object\n",
            " 1   title         7777 non-null   object\n",
            " 2   director      7777 non-null   object\n",
            " 3   cast          7777 non-null   object\n",
            " 4   country       7777 non-null   object\n",
            " 5   release_year  7777 non-null   int64 \n",
            " 6   rating        7777 non-null   object\n",
            " 7   duration      7777 non-null   int64 \n",
            " 8   listed_in     7777 non-null   object\n",
            " 9   description   7777 non-null   object\n",
            " 10  month_added   7777 non-null   int64 \n",
            " 11  year_added    7777 non-null   int64 \n",
            "dtypes: int64(4), object(8)\n",
            "memory usage: 789.9+ KB\n"
          ]
        }
      ]
    },
    {
      "cell_type": "markdown",
      "source": [
        "**1. Univatiate Analysis:**"
      ],
      "metadata": {
        "id": "5aizFG5BIFPU"
      }
    },
    {
      "cell_type": "code",
      "source": [
        "# Number of Movies and TV Shows in the dataset\n",
        "plt.figure(figsize=(7,7))\n",
        "df.type.value_counts().plot(kind='pie',autopct='%1.2f%%')\n",
        "plt.ylabel('')\n",
        "plt.title('Movies and TV Shows in the dataset')"
      ],
      "metadata": {
        "colab": {
          "base_uri": "https://localhost:8080/",
          "height": 444
        },
        "id": "_rR75iLpIIAt",
        "outputId": "83fcb086-1dac-44aa-9181-c774c6f6b8ab"
      },
      "execution_count": 565,
      "outputs": [
        {
          "output_type": "execute_result",
          "data": {
            "text/plain": [
              "Text(0.5, 1.0, 'Movies and TV Shows in the dataset')"
            ]
          },
          "metadata": {},
          "execution_count": 565
        },
        {
          "output_type": "display_data",
          "data": {
            "text/plain": [
              "<Figure size 504x504 with 1 Axes>"
            ],
            "image/png": "[encoded data removed]"
          },
          "metadata": {}
        }
      ]
    },
    {
      "cell_type": "markdown",
      "source": [
        "There are more movies (69.14%) than TV shows (30.86%)  in the dataset."
      ],
      "metadata": {
        "id": "RMjkZQj81eU4"
      }
    },
    {
      "cell_type": "code",
      "source": [
        "# Top 10 directors in the dataset\n",
        "plt.figure(figsize=(10,5))\n",
        "df[~(df['director']=='Unknown')].director.value_counts().nlargest(10).plot(kind='barh')\n",
        "plt.title('Top 10 directors by number of shows directed')"
      ],
      "metadata": {
        "colab": {
          "base_uri": "https://localhost:8080/",
          "height": 355
        },
        "id": "WtT_yuXRY7zl",
        "outputId": "77946484-8f7c-4b06-9e5b-1f1adb34f008"
      },
      "execution_count": 566,
      "outputs": [
        {
          "output_type": "execute_result",
          "data": {
            "text/plain": [
              "Text(0.5, 1.0, 'Top 10 directors by number of shows directed')"
            ]
          },
          "metadata": {},
          "execution_count": 566
        },
        {
          "output_type": "display_data",
          "data": {
            "text/plain": [
              "<Figure size 720x360 with 1 Axes>"
            ],
            "image/png": "[encoded data removed]"
          },
          "metadata": {}
        }
      ]
    },
    {
      "cell_type": "markdown",
      "source": [
        "Raul Campos and Jan Suter togather have directed 18 movies / TV shows, higher than anyone in the dataset."
      ],
      "metadata": {
        "id": "WiYXxaEL1tIL"
      }
    },
    {
      "cell_type": "code",
      "source": [
        "# Top 10 countries with the highest number movies / TV shows in the dataset\n",
        "plt.figure(figsize=(10,5))\n",
        "df[~(df['country']=='Unknown')].country.value_counts().nlargest(10).plot(kind='barh')\n",
        "plt.title(' Top 10 countries with the highest number of shows')"
      ],
      "metadata": {
        "colab": {
          "base_uri": "https://localhost:8080/",
          "height": 355
        },
        "id": "S3qvB0Ldfkh7",
        "outputId": "925627a0-23f1-42b3-9e58-53d4b70a4bba"
      },
      "execution_count": 567,
      "outputs": [
        {
          "output_type": "execute_result",
          "data": {
            "text/plain": [
              "Text(0.5, 1.0, ' Top 10 countries with the highest number of shows')"
            ]
          },
          "metadata": {},
          "execution_count": 567
        },
        {
          "output_type": "display_data",
          "data": {
            "text/plain": [
              "<Figure size 720x360 with 1 Axes>"
            ],
            "image/png": "[encoded data removed]"
          },
          "metadata": {}
        }
      ]
    },
    {
      "cell_type": "markdown",
      "source": [
        "The highest number of movies / TV shows were based out of the US, followed by India and then UK."
      ],
      "metadata": {
        "id": "NWCkiRIr1_LZ"
      }
    },
    {
      "cell_type": "code",
      "source": [
        "# % share of movies / tv shows by top 3 countries\n",
        "df.country.value_counts().nlargest(3).sum()/len(df)*100"
      ],
      "metadata": {
        "colab": {
          "base_uri": "https://localhost:8080/"
        },
        "id": "TCvbG-6u5OgZ",
        "outputId": "ca5b6231-3134-40c1-99bf-e61a91d48c5e"
      },
      "execution_count": 568,
      "outputs": [
        {
          "output_type": "execute_result",
          "data": {
            "text/plain": [
              "56.69281213835669"
            ]
          },
          "metadata": {},
          "execution_count": 568
        }
      ]
    },
    {
      "cell_type": "code",
      "source": [
        "# % share of movies / tv shows by top 10 countries\n",
        "df.country.value_counts().nlargest(10).sum()/len(df)*100"
      ],
      "metadata": {
        "colab": {
          "base_uri": "https://localhost:8080/"
        },
        "id": "dd8V_4WZ4m53",
        "outputId": "3860596f-2c23-4284-f2cb-451a8fa66cdf"
      },
      "execution_count": 569,
      "outputs": [
        {
          "output_type": "execute_result",
          "data": {
            "text/plain": [
              "78.32068921177832"
            ]
          },
          "metadata": {},
          "execution_count": 569
        }
      ]
    },
    {
      "cell_type": "markdown",
      "source": [
        "* The top 3 countries togather account for about 56% of all movies and TV shows in the dataset.\n",
        "* This value increases to about 78% for top ten countries."
      ],
      "metadata": {
        "id": "3F3cOq-b5p06"
      }
    },
    {
      "cell_type": "code",
      "source": [
        "# Visualizing the year in which the movie / tv show was released\n",
        "plt.figure(figsize=(10,5))\n",
        "sns.distplot(df['release_year'])\n",
        "plt.title('distribution by released year')"
      ],
      "metadata": {
        "colab": {
          "base_uri": "https://localhost:8080/",
          "height": 372
        },
        "id": "7QbkpFWGzusL",
        "outputId": "14387cd6-d56a-4527-f24c-acd9932aca8e"
      },
      "execution_count": 570,
      "outputs": [
        {
          "output_type": "execute_result",
          "data": {
            "text/plain": [
              "Text(0.5, 1.0, 'distribution by released year')"
            ]
          },
          "metadata": {},
          "execution_count": 570
        },
        {
          "output_type": "display_data",
          "data": {
            "text/plain": [
              "<Figure size 720x360 with 1 Axes>"
            ],
            "image/png": "[encoded data removed]"
          },
          "metadata": {}
        }
      ]
    },
    {
      "cell_type": "markdown",
      "source": [
        "Netflix has greater number of new movies / TV shows than the old ones."
      ],
      "metadata": {
        "id": "3Z7TO5ZJ6CIg"
      }
    },
    {
      "cell_type": "code",
      "source": [
        "# Top 10 genres \n",
        "plt.figure(figsize=(10,5))\n",
        "df.listed_in.value_counts().nlargest(10).plot(kind='barh')\n",
        "plt.title(' Top 10 genres')"
      ],
      "metadata": {
        "colab": {
          "base_uri": "https://localhost:8080/",
          "height": 355
        },
        "id": "7oHiZXEk0be_",
        "outputId": "c897b827-b268-4166-db7b-a3551cce240b"
      },
      "execution_count": 571,
      "outputs": [
        {
          "output_type": "execute_result",
          "data": {
            "text/plain": [
              "Text(0.5, 1.0, ' Top 10 genres')"
            ]
          },
          "metadata": {},
          "execution_count": 571
        },
        {
          "output_type": "display_data",
          "data": {
            "text/plain": [
              "<Figure size 720x360 with 1 Axes>"
            ],
            "image/png": "[encoded data removed]"
          },
          "metadata": {}
        }
      ]
    },
    {
      "cell_type": "code",
      "source": [
        "# Share of top 3 genres\n",
        "df.listed_in.value_counts().nlargest(3).sum()/len(df)*100"
      ],
      "metadata": {
        "colab": {
          "base_uri": "https://localhost:8080/"
        },
        "id": "eOvK8n_p7DbD",
        "outputId": "834620da-dab7-4854-d6b7-b9dc2fcbe80a"
      },
      "execution_count": 572,
      "outputs": [
        {
          "output_type": "execute_result",
          "data": {
            "text/plain": [
              "41.26269769834126"
            ]
          },
          "metadata": {},
          "execution_count": 572
        }
      ]
    },
    {
      "cell_type": "code",
      "source": [
        "# Share of top 10 genres\n",
        "df.listed_in.value_counts().nlargest(10).sum()/len(df)*100"
      ],
      "metadata": {
        "colab": {
          "base_uri": "https://localhost:8080/"
        },
        "id": "QKM7RgdV7oa-",
        "outputId": "9e4185ed-25fe-44e0-b2ad-a1f739cac5bb"
      },
      "execution_count": 573,
      "outputs": [
        {
          "output_type": "execute_result",
          "data": {
            "text/plain": [
              "82.44824482448246"
            ]
          },
          "metadata": {},
          "execution_count": 573
        }
      ]
    },
    {
      "cell_type": "markdown",
      "source": [
        "* The dramas is the most popular genre followed by comedies and documentaries. These three genres account for about 41% of all movies and TV shows.\n",
        "* This value increases to about 82% for top 10 genres."
      ],
      "metadata": {
        "id": "xuQ6cLhD6vKU"
      }
    },
    {
      "cell_type": "code",
      "source": [
        "# Ratings\n",
        "plt.figure(figsize=(10,5))\n",
        "df.rating.value_counts().plot(kind='barh')\n",
        "plt.title('Number of shows based on ratings')"
      ],
      "metadata": {
        "colab": {
          "base_uri": "https://localhost:8080/",
          "height": 355
        },
        "id": "gZBNrBJZ9xDH",
        "outputId": "c6738dff-529c-4a13-edce-e56dad7dee71"
      },
      "execution_count": 574,
      "outputs": [
        {
          "output_type": "execute_result",
          "data": {
            "text/plain": [
              "Text(0.5, 1.0, 'Number of shows based on ratings')"
            ]
          },
          "metadata": {},
          "execution_count": 574
        },
        {
          "output_type": "display_data",
          "data": {
            "text/plain": [
              "<Figure size 720x360 with 1 Axes>"
            ],
            "image/png": "[encoded data removed]"
          },
          "metadata": {}
        }
      ]
    },
    {
      "cell_type": "markdown",
      "source": [
        "There are more shows targeted toward the adult audience."
      ],
      "metadata": {
        "id": "H1vCtlis-gBV"
      }
    },
    {
      "cell_type": "code",
      "source": [
        "# Number of shows added on different months\n",
        "plt.figure(figsize = (10,5)) \n",
        "sns.countplot(df['month_added'])\n",
        "plt.title('Shows added each month over the years')\n",
        "plt.xlabel('')"
      ],
      "metadata": {
        "colab": {
          "base_uri": "https://localhost:8080/",
          "height": 355
        },
        "id": "mh38CAaJ89jH",
        "outputId": "8a3f0522-6ea8-49b4-ea01-2614060dfabc"
      },
      "execution_count": 575,
      "outputs": [
        {
          "output_type": "execute_result",
          "data": {
            "text/plain": [
              "Text(0.5, 0, '')"
            ]
          },
          "metadata": {},
          "execution_count": 575
        },
        {
          "output_type": "display_data",
          "data": {
            "text/plain": [
              "<Figure size 720x360 with 1 Axes>"
            ],
            "image/png": "[encoded data removed]"
          },
          "metadata": {}
        }
      ]
    },
    {
      "cell_type": "markdown",
      "source": [
        "On average more number of shows are added in the months of October, November, December, and January."
      ],
      "metadata": {
        "id": "g35m0iIMEdW4"
      }
    },
    {
      "cell_type": "code",
      "source": [
        "# Number of shows added over the years\n",
        "plt.figure(figsize = (10,5)) \n",
        "sns.countplot(df['year_added'])\n",
        "plt.title('Number of shows added each year')\n",
        "plt.xlabel('')"
      ],
      "metadata": {
        "colab": {
          "base_uri": "https://localhost:8080/",
          "height": 355
        },
        "id": "g1Ki5fLRDx0y",
        "outputId": "f36fbe40-128d-49d5-9016-c0c2ea42d046"
      },
      "execution_count": 576,
      "outputs": [
        {
          "output_type": "execute_result",
          "data": {
            "text/plain": [
              "Text(0.5, 0, '')"
            ]
          },
          "metadata": {},
          "execution_count": 576
        },
        {
          "output_type": "display_data",
          "data": {
            "text/plain": [
              "<Figure size 720x360 with 1 Axes>"
            ],
            "image/png": "[encoded data removed]"
          },
          "metadata": {}
        }
      ]
    },
    {
      "cell_type": "markdown",
      "source": [
        "**2. Bivariate analysis:**"
      ],
      "metadata": {
        "id": "oCS_ex8TIkdp"
      }
    },
    {
      "cell_type": "code",
      "source": [
        ""
      ],
      "metadata": {
        "id": "4lfADp5yK39C"
      },
      "execution_count": 577,
      "outputs": []
    }
  ]
}